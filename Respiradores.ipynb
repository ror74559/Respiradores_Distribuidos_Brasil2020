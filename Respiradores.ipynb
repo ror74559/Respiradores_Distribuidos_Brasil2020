{
  "nbformat": 4,
  "nbformat_minor": 0,
  "metadata": {
    "colab": {
      "name": "Respiradores.ipynb",
      "provenance": [],
      "collapsed_sections": [
        "14GjvxP05-YX",
        "cvsw-Cjy8fYu",
        "XY62g0k3_Tv3"
      ],
      "toc_visible": true
    },
    "kernelspec": {
      "name": "python3",
      "display_name": "Python 3"
    }
  },
  "cells": [
    {
      "cell_type": "markdown",
      "metadata": {
        "id": "gnVNJqIrpYrv"
      },
      "source": [
        "<h1>Distribuição de Respiradores em 2020 no Brasil<h1/>\n",
        "<small>por Rafael Ribeiro</small>\n",
        "\n",
        "<h2>Motivação</h2>\n",
        "<p>Além da COVID-19, outro assunto tomou os telejornais foi a a falta de respiradores nos hospitais para atender os casos mais graves da doença.</p>\n",
        "<p>Diante desta situação, e procurando meu primeiro dataset para analisar,resolvi me desafiar a extrair e sintetizar um pouco os dados que estão no dataset <a href = \"http://sage.saude.gov.br/dados/repositorio/distribuicao_respiradores.csv\">distribuicao_respiradores.csv</a>, baixado no dia 20/11/2020, que está no Portal Brasileiro de Dados Abertos e contém informações sobre respiradores distribuídos pelo Ministério da Saúde a estados e municípios.</p>\n",
        "<p>Nesse dataset teremos informações como: Fornecedor, tipo do respirador, quantidade, destino,valor, dentre outras.</p>\n",
        "<br>\n",
        "<h2>Vou explorar esse dataset para responder as seguintes perguntas:<h2/>\n",
        "<ul>\n",
        "  <li>Qual o nome das empresas fornecedoras?</li>\n",
        "  <li>Qual a quantidade de respiradores comprados de cada empresa?</li>\n",
        "  <li>Qual a quantidade total de respiradores comprados?</li>\n",
        "  <li>Quais os tipos de respiradores?</li>\n",
        "  <li>Qual a quantidade de respiradores distribuídos para cada estado?</li>\n",
        "  <li>Quantos respiradores de cada tipo foi enviado para cada estado?</li>\n",
        "  <li>Qual o valor das compras dos respiradores por estado?</li>\n",
        "  <li> Qual é o valor total das compras?</li>\n",
        "<ul/>\n",
        "\n",
        "\n",
        "\n",
        "\n",
        "\n"
      ]
    },
    {
      "cell_type": "markdown",
      "metadata": {
        "id": "gJXT5FQS_z6i"
      },
      "source": [
        "# Importando as bibliotecas que serão utilizadas."
      ]
    },
    {
      "cell_type": "code",
      "metadata": {
        "id": "ntOW6O9DzcRg"
      },
      "source": [
        "import pandas as pd\n",
        "import matplotlib.pyplot as plt\n",
        "import numpy as np"
      ],
      "execution_count": 235,
      "outputs": []
    },
    {
      "cell_type": "markdown",
      "metadata": {
        "id": "VKwVwprEpxlA"
      },
      "source": [
        "<h2>Analisando os dados</h2>"
      ]
    },
    {
      "cell_type": "code",
      "metadata": {
        "colab": {
          "base_uri": "https://localhost:8080/"
        },
        "id": "3z4PSBQXz1zo",
        "outputId": "e029b2c6-b6d4-4082-f9cb-8b1ca3284a54"
      },
      "source": [
        "df = pd.read_csv('/content/distribuicao_respiradores.csv',sep = ';')\n",
        "df.info()"
      ],
      "execution_count": 236,
      "outputs": [
        {
          "output_type": "stream",
          "text": [
            "<class 'pandas.core.frame.DataFrame'>\n",
            "RangeIndex: 1715 entries, 0 to 1714\n",
            "Data columns (total 10 columns):\n",
            " #   Column            Non-Null Count  Dtype \n",
            "---  ------            --------------  ----- \n",
            " 0   DATA              1715 non-null   object\n",
            " 1   FORNECEDOR        1715 non-null   object\n",
            " 2   DESTINO           1715 non-null   object\n",
            " 3   ESTADO/MUNICIPIO  1715 non-null   object\n",
            " 4   TIPO              1715 non-null   object\n",
            " 5   QUANTIDADE        1715 non-null   int64 \n",
            " 6   VALOR             1715 non-null   object\n",
            " 7   DESTINATARIO      1715 non-null   object\n",
            " 8   UF                1715 non-null   object\n",
            " 9   DATA DE ENTREGA   1715 non-null   object\n",
            "dtypes: int64(1), object(9)\n",
            "memory usage: 134.1+ KB\n"
          ],
          "name": "stdout"
        }
      ]
    },
    {
      "cell_type": "markdown",
      "metadata": {
        "id": "JVhv6nBHq5wP"
      },
      "source": [
        "*Temos 1715 linhas(registros de compas) e 10 colunas.*\n",
        "*A coluna VALOR não está como float64 e preciso convertê-la para poder fazer cálculos. As colunas DATA e DATA DE ENTREGA para serem utilizadas para verificar as datas, precisam ser convertidas para datetime64.*"
      ]
    },
    {
      "cell_type": "code",
      "metadata": {
        "id": "u09WvavBdXsy"
      },
      "source": [
        "#Convertendo as colunas de data\n",
        "df['DATA'] = pd.to_datetime(df['DATA'],errors='coerce')\n",
        "df['DATA DE ENTREGA'] = pd.to_datetime(df['DATA DE ENTREGA'],errors='coerce')\n"
      ],
      "execution_count": 237,
      "outputs": []
    },
    {
      "cell_type": "code",
      "metadata": {
        "id": "S_ZOJWsssGmy"
      },
      "source": [
        "#convertendo a coluna valor para float\n",
        "df['VALOR'] = df['VALOR'].apply(lambda x:str(x).replace(',','.'))\n",
        "df['VALOR'] = df['VALOR'].astype('float64')"
      ],
      "execution_count": 238,
      "outputs": []
    },
    {
      "cell_type": "code",
      "metadata": {
        "colab": {
          "base_uri": "https://localhost:8080/"
        },
        "id": "dc1g19gpsij5",
        "outputId": "44b39cba-72e9-48a9-85fd-72585053df25"
      },
      "source": [
        "#Coluna VALOR  e colunas de datas convertidas convertida!\n",
        "df.info()"
      ],
      "execution_count": 239,
      "outputs": [
        {
          "output_type": "stream",
          "text": [
            "<class 'pandas.core.frame.DataFrame'>\n",
            "RangeIndex: 1715 entries, 0 to 1714\n",
            "Data columns (total 10 columns):\n",
            " #   Column            Non-Null Count  Dtype         \n",
            "---  ------            --------------  -----         \n",
            " 0   DATA              1713 non-null   datetime64[ns]\n",
            " 1   FORNECEDOR        1715 non-null   object        \n",
            " 2   DESTINO           1715 non-null   object        \n",
            " 3   ESTADO/MUNICIPIO  1715 non-null   object        \n",
            " 4   TIPO              1715 non-null   object        \n",
            " 5   QUANTIDADE        1715 non-null   int64         \n",
            " 6   VALOR             1715 non-null   float64       \n",
            " 7   DESTINATARIO      1715 non-null   object        \n",
            " 8   UF                1715 non-null   object        \n",
            " 9   DATA DE ENTREGA   1712 non-null   datetime64[ns]\n",
            "dtypes: datetime64[ns](2), float64(1), int64(1), object(6)\n",
            "memory usage: 134.1+ KB\n"
          ],
          "name": "stdout"
        }
      ]
    },
    {
      "cell_type": "markdown",
      "metadata": {
        "id": "uel__gPES_0B"
      },
      "source": [
        "*Colunas DATA e DATA DE ENTREGA convertidas*"
      ]
    },
    {
      "cell_type": "code",
      "metadata": {
        "colab": {
          "base_uri": "https://localhost:8080/"
        },
        "id": "8ItkZf_ziWin",
        "outputId": "c0e92cb7-1a6f-44af-fdd5-64c634b48eef"
      },
      "source": [
        "#O arquivo foi criado em 11 de Agosto de 2020, mas mesmo assim, vou verificar se existe algum registro com data anterior a 2020. \n",
        "df[df['DATA']<'2020-01-01'].value_counts().sum()"
      ],
      "execution_count": 240,
      "outputs": [
        {
          "output_type": "execute_result",
          "data": {
            "text/plain": [
              "0"
            ]
          },
          "metadata": {
            "tags": []
          },
          "execution_count": 240
        }
      ]
    },
    {
      "cell_type": "markdown",
      "metadata": {
        "id": "Y1SsRoLIk4f3"
      },
      "source": [
        "*Não existe registro anterior a 2020*"
      ]
    },
    {
      "cell_type": "code",
      "metadata": {
        "colab": {
          "base_uri": "https://localhost:8080/"
        },
        "id": "GVE6z_k17Wl6",
        "outputId": "527187f4-f97b-41e4-fac2-e9617c3a380a"
      },
      "source": [
        "#Verificando se existem linhas duplicadas\n",
        "df.duplicated().sum()\n",
        "#Possui 22 linhas duplicadas"
      ],
      "execution_count": 241,
      "outputs": [
        {
          "output_type": "execute_result",
          "data": {
            "text/plain": [
              "22"
            ]
          },
          "metadata": {
            "tags": []
          },
          "execution_count": 241
        }
      ]
    },
    {
      "cell_type": "markdown",
      "metadata": {
        "id": "0HyIIMzrTa5M"
      },
      "source": [
        "*Existem 22 linhas duplicadas, então irei removê-las.*"
      ]
    },
    {
      "cell_type": "code",
      "metadata": {
        "colab": {
          "base_uri": "https://localhost:8080/"
        },
        "id": "YAdDnfFH7j_Q",
        "outputId": "726a6bf3-9f9c-4da4-a088-5c537a64c2b7"
      },
      "source": [
        "#Excluindo as linhas duplicadas\n",
        "df = df.drop_duplicates()\n",
        "df.duplicated().sum()"
      ],
      "execution_count": 242,
      "outputs": [
        {
          "output_type": "execute_result",
          "data": {
            "text/plain": [
              "0"
            ]
          },
          "metadata": {
            "tags": []
          },
          "execution_count": 242
        }
      ]
    },
    {
      "cell_type": "markdown",
      "metadata": {
        "id": "xTj2y8Y1TwEA"
      },
      "source": [
        "*Linhas duplicadas removidas*"
      ]
    },
    {
      "cell_type": "markdown",
      "metadata": {
        "id": "ErtTerxGlObn"
      },
      "source": [
        "*Como não utilizarei algumas colunas, vou retirá-las*"
      ]
    },
    {
      "cell_type": "code",
      "metadata": {
        "colab": {
          "base_uri": "https://localhost:8080/"
        },
        "id": "p96JIXBF5O_c",
        "outputId": "67fe36a4-a7a1-41f8-b252-a0349c7283b0"
      },
      "source": [
        "df.columns"
      ],
      "execution_count": 243,
      "outputs": [
        {
          "output_type": "execute_result",
          "data": {
            "text/plain": [
              "Index(['DATA', 'FORNECEDOR', 'DESTINO', 'ESTADO/MUNICIPIO', 'TIPO',\n",
              "       'QUANTIDADE', 'VALOR', 'DESTINATARIO', 'UF', 'DATA DE ENTREGA'],\n",
              "      dtype='object')"
            ]
          },
          "metadata": {
            "tags": []
          },
          "execution_count": 243
        }
      ]
    },
    {
      "cell_type": "code",
      "metadata": {
        "id": "gtDoyh3-lnJp"
      },
      "source": [
        "df = df[[ 'FORNECEDOR', 'DESTINO', 'TIPO','QUANTIDADE', 'VALOR', 'DESTINATARIO','ESTADO/MUNICIPIO']]"
      ],
      "execution_count": 244,
      "outputs": []
    },
    {
      "cell_type": "markdown",
      "metadata": {
        "id": "NifMa9-BUFWE"
      },
      "source": [
        "*Mantive apenas as colunas FORNECEDOR, DESTINO, TIPO, QUANTIDADE, VALOR,*   *DESTINATARIO*"
      ]
    },
    {
      "cell_type": "code",
      "metadata": {
        "colab": {
          "base_uri": "https://localhost:8080/",
          "height": 193
        },
        "id": "RGkwz8uVUw2T",
        "outputId": "2c476e58-1cd7-4752-99ce-9db3f2d5e2e0"
      },
      "source": [
        "df.head(3)"
      ],
      "execution_count": 245,
      "outputs": [
        {
          "output_type": "execute_result",
          "data": {
            "text/html": [
              "<div>\n",
              "<style scoped>\n",
              "    .dataframe tbody tr th:only-of-type {\n",
              "        vertical-align: middle;\n",
              "    }\n",
              "\n",
              "    .dataframe tbody tr th {\n",
              "        vertical-align: top;\n",
              "    }\n",
              "\n",
              "    .dataframe thead th {\n",
              "        text-align: right;\n",
              "    }\n",
              "</style>\n",
              "<table border=\"1\" class=\"dataframe\">\n",
              "  <thead>\n",
              "    <tr style=\"text-align: right;\">\n",
              "      <th></th>\n",
              "      <th>FORNECEDOR</th>\n",
              "      <th>DESTINO</th>\n",
              "      <th>TIPO</th>\n",
              "      <th>QUANTIDADE</th>\n",
              "      <th>VALOR</th>\n",
              "      <th>DESTINATARIO</th>\n",
              "      <th>ESTADO/MUNICIPIO</th>\n",
              "    </tr>\n",
              "  </thead>\n",
              "  <tbody>\n",
              "    <tr>\n",
              "      <th>0</th>\n",
              "      <td>VYAIRE</td>\n",
              "      <td>RIO DE JANEIRO</td>\n",
              "      <td>UTI</td>\n",
              "      <td>40</td>\n",
              "      <td>2400000.0</td>\n",
              "      <td>ALMOXARIFADO ESTADUAL DE MEDICAMENTOS - RIO DE...</td>\n",
              "      <td>ESTADO</td>\n",
              "    </tr>\n",
              "    <tr>\n",
              "      <th>1</th>\n",
              "      <td>VYAIRE</td>\n",
              "      <td>RIO DE JANEIRO</td>\n",
              "      <td>UTI</td>\n",
              "      <td>20</td>\n",
              "      <td>1200000.0</td>\n",
              "      <td>LABORATÓRIO QUÍMICO FARMACÊUTICO DE AERONÁUTICA</td>\n",
              "      <td>ESTADO</td>\n",
              "    </tr>\n",
              "    <tr>\n",
              "      <th>2</th>\n",
              "      <td>MAGNAMED</td>\n",
              "      <td>RIO DE JANEIRO</td>\n",
              "      <td>UTI</td>\n",
              "      <td>25</td>\n",
              "      <td>1500000.0</td>\n",
              "      <td>ALMOXARIFADO ESTADUAL DE MEDICAMENTOS - RIO DE...</td>\n",
              "      <td>ESTADO</td>\n",
              "    </tr>\n",
              "  </tbody>\n",
              "</table>\n",
              "</div>"
            ],
            "text/plain": [
              "  FORNECEDOR  ... ESTADO/MUNICIPIO\n",
              "0     VYAIRE  ...           ESTADO\n",
              "1     VYAIRE  ...           ESTADO\n",
              "2   MAGNAMED  ...           ESTADO\n",
              "\n",
              "[3 rows x 7 columns]"
            ]
          },
          "metadata": {
            "tags": []
          },
          "execution_count": 245
        }
      ]
    },
    {
      "cell_type": "code",
      "metadata": {
        "colab": {
          "base_uri": "https://localhost:8080/"
        },
        "id": "541merW4tqmr",
        "outputId": "6c52a3c7-2ae2-4215-b44a-81563dc3f9a3"
      },
      "source": [
        "#Verificando os estados de destino\n",
        "df['DESTINO'].value_counts()"
      ],
      "execution_count": 246,
      "outputs": [
        {
          "output_type": "execute_result",
          "data": {
            "text/plain": [
              "GOIAS                  160\n",
              "BAHIA                  154\n",
              "RIO GRANDE DO SUL      137\n",
              "MINAS GERAIS           132\n",
              "PARANA                 128\n",
              "RIO DE JANEIRO         118\n",
              "SÃO PAULO              117\n",
              "CEARA                   90\n",
              "RONDONIA                75\n",
              "ESPIRITO SANTO          58\n",
              "MARANHÃO                58\n",
              "PARAIBA                 55\n",
              "TOCANTINS               43\n",
              "MATO GROSSO DO SUL      43\n",
              "PIAUI                   41\n",
              "MATO GROSSO             40\n",
              "RIO GRANDE DO NORTE     38\n",
              "PERNAMBUCO              36\n",
              "PARA                    36\n",
              "SANTA CATARINA          28\n",
              "ALAGOAS                 25\n",
              "AMAZONAS                22\n",
              "SERGIPE                 16\n",
              "AMAPA                   11\n",
              "DISTRITO FEDERAL        11\n",
              "RORAIMA                 10\n",
              "ACRE                    10\n",
              "LIBANO                   1\n",
              "Name: DESTINO, dtype: int64"
            ]
          },
          "metadata": {
            "tags": []
          },
          "execution_count": 246
        }
      ]
    },
    {
      "cell_type": "markdown",
      "metadata": {
        "id": "3DjEwmDRpm6o"
      },
      "source": [
        "Esses são os estados brasileiros destino dos respiradores. Os números a direita mostra a quantidade de registros(linhas) em que o nome do estado aparece. Curiosamente existe uma remessa de respiradores para o Líbano. Vamos verificar o registro referente ao Líbano."
      ]
    },
    {
      "cell_type": "code",
      "metadata": {
        "colab": {
          "base_uri": "https://localhost:8080/",
          "height": 80
        },
        "id": "fM2DbVOG8c9_",
        "outputId": "171dd293-03bd-4841-8789-ff2f406ac424"
      },
      "source": [
        "libano = df[df['DESTINO'] == 'LIBANO']\n",
        "libano"
      ],
      "execution_count": 247,
      "outputs": [
        {
          "output_type": "execute_result",
          "data": {
            "text/html": [
              "<div>\n",
              "<style scoped>\n",
              "    .dataframe tbody tr th:only-of-type {\n",
              "        vertical-align: middle;\n",
              "    }\n",
              "\n",
              "    .dataframe tbody tr th {\n",
              "        vertical-align: top;\n",
              "    }\n",
              "\n",
              "    .dataframe thead th {\n",
              "        text-align: right;\n",
              "    }\n",
              "</style>\n",
              "<table border=\"1\" class=\"dataframe\">\n",
              "  <thead>\n",
              "    <tr style=\"text-align: right;\">\n",
              "      <th></th>\n",
              "      <th>FORNECEDOR</th>\n",
              "      <th>DESTINO</th>\n",
              "      <th>TIPO</th>\n",
              "      <th>QUANTIDADE</th>\n",
              "      <th>VALOR</th>\n",
              "      <th>DESTINATARIO</th>\n",
              "      <th>ESTADO/MUNICIPIO</th>\n",
              "    </tr>\n",
              "  </thead>\n",
              "  <tbody>\n",
              "    <tr>\n",
              "      <th>1714</th>\n",
              "      <td>MAGNAMED</td>\n",
              "      <td>LIBANO</td>\n",
              "      <td>TRANSPORTE</td>\n",
              "      <td>300</td>\n",
              "      <td>14487000.0</td>\n",
              "      <td>MISSÃO FAB (Doação Destino ao Libano).</td>\n",
              "      <td>-</td>\n",
              "    </tr>\n",
              "  </tbody>\n",
              "</table>\n",
              "</div>"
            ],
            "text/plain": [
              "     FORNECEDOR  ... ESTADO/MUNICIPIO\n",
              "1714   MAGNAMED  ...                -\n",
              "\n",
              "[1 rows x 7 columns]"
            ]
          },
          "metadata": {
            "tags": []
          },
          "execution_count": 247
        }
      ]
    },
    {
      "cell_type": "code",
      "metadata": {
        "colab": {
          "base_uri": "https://localhost:8080/"
        },
        "id": "i99LY7wTupnR",
        "outputId": "bc0b57a5-3961-4a9d-94ff-573237c902cc"
      },
      "source": [
        "#Custo de cada respirador enviado para o Líbano\n",
        "custo_unidade = libano['VALOR']/libano['QUANTIDADE']\n",
        "custo_unidade"
      ],
      "execution_count": 248,
      "outputs": [
        {
          "output_type": "execute_result",
          "data": {
            "text/plain": [
              "1714    48290.0\n",
              "dtype: float64"
            ]
          },
          "metadata": {
            "tags": []
          },
          "execution_count": 248
        }
      ]
    },
    {
      "cell_type": "markdown",
      "metadata": {
        "id": "FiIKtLiduLyp"
      },
      "source": [
        "*Existe uma remessa de 300 respiradores do tipo Transporte enviada para o Líbano, como doação. O custo por unidade foi de 48290,00 reais  totalizando 14487000,00 reais*"
      ]
    },
    {
      "cell_type": "code",
      "metadata": {
        "id": "5YuEEnW381E-"
      },
      "source": [
        "#Retirando essa compra para analisar apenas as compras cujo destino é o Brasil\n",
        "df = df[df['DESTINO'] != 'LIBANO']"
      ],
      "execution_count": 249,
      "outputs": []
    },
    {
      "cell_type": "code",
      "metadata": {
        "colab": {
          "base_uri": "https://localhost:8080/"
        },
        "id": "qXDxFUS0-Nax",
        "outputId": "cbaeabcb-42f6-4e8c-93cf-85f3d1493121"
      },
      "source": [
        "df['DESTINO'].value_counts()\n"
      ],
      "execution_count": 250,
      "outputs": [
        {
          "output_type": "execute_result",
          "data": {
            "text/plain": [
              "GOIAS                  160\n",
              "BAHIA                  154\n",
              "RIO GRANDE DO SUL      137\n",
              "MINAS GERAIS           132\n",
              "PARANA                 128\n",
              "RIO DE JANEIRO         118\n",
              "SÃO PAULO              117\n",
              "CEARA                   90\n",
              "RONDONIA                75\n",
              "ESPIRITO SANTO          58\n",
              "MARANHÃO                58\n",
              "PARAIBA                 55\n",
              "TOCANTINS               43\n",
              "MATO GROSSO DO SUL      43\n",
              "PIAUI                   41\n",
              "MATO GROSSO             40\n",
              "RIO GRANDE DO NORTE     38\n",
              "PERNAMBUCO              36\n",
              "PARA                    36\n",
              "SANTA CATARINA          28\n",
              "ALAGOAS                 25\n",
              "AMAZONAS                22\n",
              "SERGIPE                 16\n",
              "AMAPA                   11\n",
              "DISTRITO FEDERAL        11\n",
              "RORAIMA                 10\n",
              "ACRE                    10\n",
              "Name: DESTINO, dtype: int64"
            ]
          },
          "metadata": {
            "tags": []
          },
          "execution_count": 250
        }
      ]
    },
    {
      "cell_type": "markdown",
      "metadata": {
        "id": "q2Z7PQHNZGHZ"
      },
      "source": [
        "*O registro referente ao Líbano foi removido*"
      ]
    },
    {
      "cell_type": "markdown",
      "metadata": {
        "id": "jQ02porhw606"
      },
      "source": [
        "# Nome dos Fornecedores"
      ]
    },
    {
      "cell_type": "code",
      "metadata": {
        "colab": {
          "base_uri": "https://localhost:8080/"
        },
        "id": "5kjQdigh9Tfy",
        "outputId": "e520b605-6561-413f-871d-d461f65455d6"
      },
      "source": [
        "df['FORNECEDOR'].value_counts()"
      ],
      "execution_count": 251,
      "outputs": [
        {
          "output_type": "execute_result",
          "data": {
            "text/plain": [
              "MAGNAMED                                763\n",
              "VYAIRE                                  444\n",
              "KTK                                     293\n",
              "LEISTUNG                                 90\n",
              "VYAIRE LTV 2200 USA                      55\n",
              "WEG                                      31\n",
              "VYAIRE LTV 1200 USA                       4\n",
              "MAGNAMED-REQUISIÇÃO                       3\n",
              "SUZANO/Zhongxun Medical                   1\n",
              "KTK/VAYIRE                                1\n",
              "L C DADDE COM AT INST MAT MEDICO EPP      1\n",
              "UTI                                       1\n",
              "SUZANO/Resmed                             1\n",
              "MAGNAMED/REQUISIÇÃO                       1\n",
              "LEISTUNG/VYAIRE                           1\n",
              "Leistung                                  1\n",
              "VYAIRE USA                                1\n",
              "Name: FORNECEDOR, dtype: int64"
            ]
          },
          "metadata": {
            "tags": []
          },
          "execution_count": 251
        }
      ]
    },
    {
      "cell_type": "markdown",
      "metadata": {
        "id": "su7rJCo4xHy5"
      },
      "source": [
        "*Essas são as empresas fornecedoras e o número que aparece a direita é a quantidade de registros(linhas), em que o nome do fornecedor aparece.*\n",
        "Vou organizar o nome dessas empresas."
      ]
    },
    {
      "cell_type": "code",
      "metadata": {
        "id": "KfaI_f7oga22"
      },
      "source": [
        "fornecedores = {\"KTK/VAYIRE\":\"KTK\",\"LEISTUNG/VYAIRE\":\"LEISTUNG\",\"Leistung\":\"LEISTUNG\",\"MAGNAMED-REQUISIÇÃO\":\"MAGNAMED\",\"MAGNAMED/REQUISIÇÃO\":\"MAGNAMED\",\"SUZANO/RESMED\":\"SUZANO\",\"SUZANO/Resmed\":\"SUZANO\",\"SUZANO/Zhongxun Medical\":\"SUZANO\",\"VYAIRE LTV 1200 USA\":\"VYAIRE\", \"VYAIRE LTV 2200 USA\":\"VYAIRE\",\"VYAIRE USA\":\"VYAIRE\",\"L C DADDE COM AT INST MAT MEDICO EPP\":\"L C DADDE\"}\n",
        "df['FORNECEDOR'] = df['FORNECEDOR'].replace(fornecedores)"
      ],
      "execution_count": 287,
      "outputs": []
    },
    {
      "cell_type": "markdown",
      "metadata": {
        "id": "yv48VCxqyhX1"
      },
      "source": [
        "# Quantidade de respiradores comprados de cada fornecedor"
      ]
    },
    {
      "cell_type": "code",
      "metadata": {
        "colab": {
          "base_uri": "https://localhost:8080/",
          "height": 669
        },
        "id": "LecjY9YL9Poc",
        "outputId": "017370a6-a0db-4529-f76d-3e87afe51975"
      },
      "source": [
        "ax = df.groupby('FORNECEDOR')['QUANTIDADE'].sum().sort_values(ascending = True).plot.barh(figsize = (10,8))\n",
        "for p in ax.patches:\n",
        "    b=p.get_bbox()\n",
        "    ax.annotate(\"{:.0f}\".format(b.x1 + b.x0), (p.get_x() + p.get_width() + 1, p.get_y()  ))\n",
        "plt.title('Quantidade de respirador comprado de cada fornecedor')\n",
        "plt.show()\n",
        "df.groupby('FORNECEDOR')['QUANTIDADE'].sum().sort_values(ascending = False)"
      ],
      "execution_count": 288,
      "outputs": [
        {
          "output_type": "display_data",
          "data": {
            "image/png": "[encoded data removed]",
            "text/plain": [
              "<Figure size 720x576 with 1 Axes>"
            ]
          },
          "metadata": {
            "tags": [],
            "needs_background": "light"
          }
        },
        {
          "output_type": "execute_result",
          "data": {
            "text/plain": [
              "FORNECEDOR\n",
              "MAGNAMED     4509\n",
              "VYAIRE       3902\n",
              "KTK          1501\n",
              "LEISTUNG     1163\n",
              "WEG           500\n",
              "SUZANO         20\n",
              "L C DADDE      20\n",
              "UTI             3\n",
              "Name: QUANTIDADE, dtype: int64"
            ]
          },
          "metadata": {
            "tags": []
          },
          "execution_count": 288
        }
      ]
    },
    {
      "cell_type": "markdown",
      "metadata": {
        "id": "ZTcmsqMTWTzd"
      },
      "source": [
        "# Valor total pago para cada fornecedor"
      ]
    },
    {
      "cell_type": "code",
      "metadata": {
        "colab": {
          "base_uri": "https://localhost:8080/",
          "height": 679
        },
        "id": "98zb_wh3WpT3",
        "outputId": "1d354e85-f5d4-4dcb-aa93-6b6c3a89e6de"
      },
      "source": [
        "ax = df.groupby('FORNECEDOR')['VALOR'].sum().sort_values(ascending = True).plot.barh( figsize = (22,11),color = 'r')\n",
        "for p in ax.patches:\n",
        "    b=p.get_bbox()\n",
        "    ax.annotate(\"{:.0f}\".format(b.x1 + b.x0), (p.get_x() + p.get_width() + 1, p.get_y()  ))\n",
        "plt.title('Valor total pago para cada fornecedor')\n",
        "plt.show()\n",
        "df.groupby('FORNECEDOR')['VALOR'].sum()"
      ],
      "execution_count": 289,
      "outputs": [
        {
          "output_type": "display_data",
          "data": {
            "image/png": "[encoded data removed]",
            "text/plain": [
              "<Figure size 1080x576 with 1 Axes>"
            ]
          },
          "metadata": {
            "tags": [],
            "needs_background": "light"
          }
        },
        {
          "output_type": "execute_result",
          "data": {
            "text/plain": [
              "FORNECEDOR\n",
              "KTK          4.466000e+07\n",
              "L C DADDE    2.190000e+06\n",
              "LEISTUNG     6.969700e+07\n",
              "MAGNAMED     2.237820e+08\n",
              "SUZANO       2.613525e+06\n",
              "UTI          1.800000e+05\n",
              "VYAIRE       2.358799e+08\n",
              "WEG          3.000000e+07\n",
              "Name: VALOR, dtype: float64"
            ]
          },
          "metadata": {
            "tags": []
          },
          "execution_count": 289
        }
      ]
    },
    {
      "cell_type": "markdown",
      "metadata": {
        "id": "IRoxj_0c1m-r"
      },
      "source": [
        "# Quantidade total de respiradores comprados para os estados brasileiros"
      ]
    },
    {
      "cell_type": "code",
      "metadata": {
        "colab": {
          "base_uri": "https://localhost:8080/"
        },
        "id": "kj9XvPoB6tYP",
        "outputId": "f42058c0-5cc5-47a3-c5d4-89e1fc17a4ef"
      },
      "source": [
        "vendas_for = df.filter(['FORNECEDOR','QUANTIDADE'])\n",
        "vendas_for['QUANTIDADE'].sum()"
      ],
      "execution_count": 254,
      "outputs": [
        {
          "output_type": "execute_result",
          "data": {
            "text/plain": [
              "11618"
            ]
          },
          "metadata": {
            "tags": []
          },
          "execution_count": 254
        }
      ]
    },
    {
      "cell_type": "markdown",
      "metadata": {
        "id": "mSqs31i915i8"
      },
      "source": [
        "*Foram comprados 11618 respiradores*"
      ]
    },
    {
      "cell_type": "markdown",
      "metadata": {
        "id": "hvtaD3Wp2Kwu"
      },
      "source": [
        "# Quantidade de respiradores por tipo"
      ]
    },
    {
      "cell_type": "code",
      "metadata": {
        "colab": {
          "base_uri": "https://localhost:8080/",
          "height": 289
        },
        "id": "HCq-C_Sn3b3s",
        "outputId": "51b758f6-7d5a-4381-9a81-141303b574ee"
      },
      "source": [
        "#Acrescentando mais uma coluna UNIDADE para armazenar o valor de cada respirador por compra, pois o dataset só possui quantidade e valor total\n",
        "# com isso consigo um retirar um pouco mais de informação dos dados\n",
        "df['UNIDADE'] = df['VALOR']/df['QUANTIDADE']\n",
        "df.head()\n",
        "df = df[['FORNECEDOR', 'DESTINO', 'TIPO','QUANTIDADE','UNIDADE', 'VALOR', 'DESTINATARIO','ESTADO/MUNICIPIO']]\n",
        "df.head()\n"
      ],
      "execution_count": 255,
      "outputs": [
        {
          "output_type": "execute_result",
          "data": {
            "text/html": [
              "<div>\n",
              "<style scoped>\n",
              "    .dataframe tbody tr th:only-of-type {\n",
              "        vertical-align: middle;\n",
              "    }\n",
              "\n",
              "    .dataframe tbody tr th {\n",
              "        vertical-align: top;\n",
              "    }\n",
              "\n",
              "    .dataframe thead th {\n",
              "        text-align: right;\n",
              "    }\n",
              "</style>\n",
              "<table border=\"1\" class=\"dataframe\">\n",
              "  <thead>\n",
              "    <tr style=\"text-align: right;\">\n",
              "      <th></th>\n",
              "      <th>FORNECEDOR</th>\n",
              "      <th>DESTINO</th>\n",
              "      <th>TIPO</th>\n",
              "      <th>QUANTIDADE</th>\n",
              "      <th>UNIDADE</th>\n",
              "      <th>VALOR</th>\n",
              "      <th>DESTINATARIO</th>\n",
              "      <th>ESTADO/MUNICIPIO</th>\n",
              "    </tr>\n",
              "  </thead>\n",
              "  <tbody>\n",
              "    <tr>\n",
              "      <th>0</th>\n",
              "      <td>VYAIRE</td>\n",
              "      <td>RIO DE JANEIRO</td>\n",
              "      <td>UTI</td>\n",
              "      <td>40</td>\n",
              "      <td>60000.0</td>\n",
              "      <td>2400000.0</td>\n",
              "      <td>ALMOXARIFADO ESTADUAL DE MEDICAMENTOS - RIO DE...</td>\n",
              "      <td>ESTADO</td>\n",
              "    </tr>\n",
              "    <tr>\n",
              "      <th>1</th>\n",
              "      <td>VYAIRE</td>\n",
              "      <td>RIO DE JANEIRO</td>\n",
              "      <td>UTI</td>\n",
              "      <td>20</td>\n",
              "      <td>60000.0</td>\n",
              "      <td>1200000.0</td>\n",
              "      <td>LABORATÓRIO QUÍMICO FARMACÊUTICO DE AERONÁUTICA</td>\n",
              "      <td>ESTADO</td>\n",
              "    </tr>\n",
              "    <tr>\n",
              "      <th>2</th>\n",
              "      <td>MAGNAMED</td>\n",
              "      <td>RIO DE JANEIRO</td>\n",
              "      <td>UTI</td>\n",
              "      <td>25</td>\n",
              "      <td>60000.0</td>\n",
              "      <td>1500000.0</td>\n",
              "      <td>ALMOXARIFADO ESTADUAL DE MEDICAMENTOS - RIO DE...</td>\n",
              "      <td>ESTADO</td>\n",
              "    </tr>\n",
              "    <tr>\n",
              "      <th>3</th>\n",
              "      <td>KTK</td>\n",
              "      <td>RIO DE JANEIRO</td>\n",
              "      <td>UTI</td>\n",
              "      <td>15</td>\n",
              "      <td>60000.0</td>\n",
              "      <td>900000.0</td>\n",
              "      <td>ALMOXARIFADO ESTADUAL DE MEDICAMENTOS - RIO DE...</td>\n",
              "      <td>ESTADO</td>\n",
              "    </tr>\n",
              "    <tr>\n",
              "      <th>4</th>\n",
              "      <td>LEISTUNG</td>\n",
              "      <td>RIO DE JANEIRO</td>\n",
              "      <td>UTI</td>\n",
              "      <td>6</td>\n",
              "      <td>60000.0</td>\n",
              "      <td>360000.0</td>\n",
              "      <td>ALMOXARIFADO ESTADUAL DE MEDICAMENTOS - RIO DE...</td>\n",
              "      <td>ESTADO</td>\n",
              "    </tr>\n",
              "  </tbody>\n",
              "</table>\n",
              "</div>"
            ],
            "text/plain": [
              "  FORNECEDOR  ... ESTADO/MUNICIPIO\n",
              "0     VYAIRE  ...           ESTADO\n",
              "1     VYAIRE  ...           ESTADO\n",
              "2   MAGNAMED  ...           ESTADO\n",
              "3        KTK  ...           ESTADO\n",
              "4   LEISTUNG  ...           ESTADO\n",
              "\n",
              "[5 rows x 8 columns]"
            ]
          },
          "metadata": {
            "tags": []
          },
          "execution_count": 255
        }
      ]
    },
    {
      "cell_type": "code",
      "metadata": {
        "colab": {
          "base_uri": "https://localhost:8080/"
        },
        "id": "7YEV3f9C8VZl",
        "outputId": "56247e01-4670-4373-e80e-ed20fed68906"
      },
      "source": [
        "df['TIPO'].value_counts()"
      ],
      "execution_count": 256,
      "outputs": [
        {
          "output_type": "execute_result",
          "data": {
            "text/plain": [
              "TRANSPORTE        919\n",
              "UTI               711\n",
              "TRANSPORTE USA     50\n",
              "Transporte USA     10\n",
              "Transporte          2\n",
              "Name: TIPO, dtype: int64"
            ]
          },
          "metadata": {
            "tags": []
          },
          "execution_count": 256
        }
      ]
    },
    {
      "cell_type": "markdown",
      "metadata": {
        "id": "zufGx9hBbvYI"
      },
      "source": [
        "*Temos dois tipos de respiradores UTI e de Transporte. Vou separar cada tipo em uma variável*"
      ]
    },
    {
      "cell_type": "code",
      "metadata": {
        "colab": {
          "base_uri": "https://localhost:8080/",
          "height": 297
        },
        "id": "wldis4ImOkgs",
        "outputId": "8ab1fdc4-6083-4637-c9d6-49f8cbb1e1c9"
      },
      "source": [
        "#tipo UTI\n",
        "tipo_uti = df[df['TIPO'] == 'UTI']\n",
        "tipo_uti.describe()"
      ],
      "execution_count": 257,
      "outputs": [
        {
          "output_type": "execute_result",
          "data": {
            "text/html": [
              "<div>\n",
              "<style scoped>\n",
              "    .dataframe tbody tr th:only-of-type {\n",
              "        vertical-align: middle;\n",
              "    }\n",
              "\n",
              "    .dataframe tbody tr th {\n",
              "        vertical-align: top;\n",
              "    }\n",
              "\n",
              "    .dataframe thead th {\n",
              "        text-align: right;\n",
              "    }\n",
              "</style>\n",
              "<table border=\"1\" class=\"dataframe\">\n",
              "  <thead>\n",
              "    <tr style=\"text-align: right;\">\n",
              "      <th></th>\n",
              "      <th>QUANTIDADE</th>\n",
              "      <th>UNIDADE</th>\n",
              "      <th>VALOR</th>\n",
              "    </tr>\n",
              "  </thead>\n",
              "  <tbody>\n",
              "    <tr>\n",
              "      <th>count</th>\n",
              "      <td>711.000000</td>\n",
              "      <td>711.000000</td>\n",
              "      <td>7.110000e+02</td>\n",
              "    </tr>\n",
              "    <tr>\n",
              "      <th>mean</th>\n",
              "      <td>8.333333</td>\n",
              "      <td>60268.428256</td>\n",
              "      <td>5.033805e+05</td>\n",
              "    </tr>\n",
              "    <tr>\n",
              "      <th>std</th>\n",
              "      <td>12.740310</td>\n",
              "      <td>4671.588520</td>\n",
              "      <td>7.680492e+05</td>\n",
              "    </tr>\n",
              "    <tr>\n",
              "      <th>min</th>\n",
              "      <td>1.000000</td>\n",
              "      <td>60000.000000</td>\n",
              "      <td>6.000000e+04</td>\n",
              "    </tr>\n",
              "    <tr>\n",
              "      <th>25%</th>\n",
              "      <td>2.000000</td>\n",
              "      <td>60000.000000</td>\n",
              "      <td>1.200000e+05</td>\n",
              "    </tr>\n",
              "    <tr>\n",
              "      <th>50%</th>\n",
              "      <td>5.000000</td>\n",
              "      <td>60000.000000</td>\n",
              "      <td>3.000000e+05</td>\n",
              "    </tr>\n",
              "    <tr>\n",
              "      <th>75%</th>\n",
              "      <td>10.000000</td>\n",
              "      <td>60000.000000</td>\n",
              "      <td>6.000000e+05</td>\n",
              "    </tr>\n",
              "    <tr>\n",
              "      <th>max</th>\n",
              "      <td>120.000000</td>\n",
              "      <td>170081.650000</td>\n",
              "      <td>7.200000e+06</td>\n",
              "    </tr>\n",
              "  </tbody>\n",
              "</table>\n",
              "</div>"
            ],
            "text/plain": [
              "       QUANTIDADE        UNIDADE         VALOR\n",
              "count  711.000000     711.000000  7.110000e+02\n",
              "mean     8.333333   60268.428256  5.033805e+05\n",
              "std     12.740310    4671.588520  7.680492e+05\n",
              "min      1.000000   60000.000000  6.000000e+04\n",
              "25%      2.000000   60000.000000  1.200000e+05\n",
              "50%      5.000000   60000.000000  3.000000e+05\n",
              "75%     10.000000   60000.000000  6.000000e+05\n",
              "max    120.000000  170081.650000  7.200000e+06"
            ]
          },
          "metadata": {
            "tags": []
          },
          "execution_count": 257
        }
      ]
    },
    {
      "cell_type": "markdown",
      "metadata": {
        "id": "SKGhbhWo4SXO"
      },
      "source": [
        "*Os respiradores do tipo UTI tiveram preços que variaram de 60000 reais a 170081,65 reais*"
      ]
    },
    {
      "cell_type": "code",
      "metadata": {
        "colab": {
          "base_uri": "https://localhost:8080/",
          "height": 297
        },
        "id": "LBB2QsiBPQ51",
        "outputId": "46bdaad1-8271-4e40-bde2-7b449d45642e"
      },
      "source": [
        "#Tipo Transporte\n",
        "tipo_transporte = df[df['TIPO'] != 'UTI']\n",
        "tipo_transporte.describe()"
      ],
      "execution_count": 258,
      "outputs": [
        {
          "output_type": "execute_result",
          "data": {
            "text/html": [
              "<div>\n",
              "<style scoped>\n",
              "    .dataframe tbody tr th:only-of-type {\n",
              "        vertical-align: middle;\n",
              "    }\n",
              "\n",
              "    .dataframe tbody tr th {\n",
              "        vertical-align: top;\n",
              "    }\n",
              "\n",
              "    .dataframe thead th {\n",
              "        text-align: right;\n",
              "    }\n",
              "</style>\n",
              "<table border=\"1\" class=\"dataframe\">\n",
              "  <thead>\n",
              "    <tr style=\"text-align: right;\">\n",
              "      <th></th>\n",
              "      <th>QUANTIDADE</th>\n",
              "      <th>UNIDADE</th>\n",
              "      <th>VALOR</th>\n",
              "    </tr>\n",
              "  </thead>\n",
              "  <tbody>\n",
              "    <tr>\n",
              "      <th>count</th>\n",
              "      <td>981.000000</td>\n",
              "      <td>981.000000</td>\n",
              "      <td>9.810000e+02</td>\n",
              "    </tr>\n",
              "    <tr>\n",
              "      <th>mean</th>\n",
              "      <td>5.803262</td>\n",
              "      <td>42015.227523</td>\n",
              "      <td>2.559622e+05</td>\n",
              "    </tr>\n",
              "    <tr>\n",
              "      <th>std</th>\n",
              "      <td>10.301131</td>\n",
              "      <td>13322.893226</td>\n",
              "      <td>5.084296e+05</td>\n",
              "    </tr>\n",
              "    <tr>\n",
              "      <th>min</th>\n",
              "      <td>1.000000</td>\n",
              "      <td>18500.000000</td>\n",
              "      <td>2.000000e+04</td>\n",
              "    </tr>\n",
              "    <tr>\n",
              "      <th>25%</th>\n",
              "      <td>1.000000</td>\n",
              "      <td>20000.000000</td>\n",
              "      <td>4.829000e+04</td>\n",
              "    </tr>\n",
              "    <tr>\n",
              "      <th>50%</th>\n",
              "      <td>2.000000</td>\n",
              "      <td>48290.000000</td>\n",
              "      <td>9.658000e+04</td>\n",
              "    </tr>\n",
              "    <tr>\n",
              "      <th>75%</th>\n",
              "      <td>5.000000</td>\n",
              "      <td>48290.000000</td>\n",
              "      <td>2.414500e+05</td>\n",
              "    </tr>\n",
              "    <tr>\n",
              "      <th>max</th>\n",
              "      <td>150.000000</td>\n",
              "      <td>63125.970000</td>\n",
              "      <td>7.243500e+06</td>\n",
              "    </tr>\n",
              "  </tbody>\n",
              "</table>\n",
              "</div>"
            ],
            "text/plain": [
              "       QUANTIDADE       UNIDADE         VALOR\n",
              "count  981.000000    981.000000  9.810000e+02\n",
              "mean     5.803262  42015.227523  2.559622e+05\n",
              "std     10.301131  13322.893226  5.084296e+05\n",
              "min      1.000000  18500.000000  2.000000e+04\n",
              "25%      1.000000  20000.000000  4.829000e+04\n",
              "50%      2.000000  48290.000000  9.658000e+04\n",
              "75%      5.000000  48290.000000  2.414500e+05\n",
              "max    150.000000  63125.970000  7.243500e+06"
            ]
          },
          "metadata": {
            "tags": []
          },
          "execution_count": 258
        }
      ]
    },
    {
      "cell_type": "markdown",
      "metadata": {
        "id": "P3QpPpNf40I2"
      },
      "source": [
        "*Os respiradores do tipo Transporte tiveram preços que variaram de 18500 reais a 63125,97 reais*"
      ]
    },
    {
      "cell_type": "code",
      "metadata": {
        "colab": {
          "base_uri": "https://localhost:8080/"
        },
        "id": "PzgVllV3QGKE",
        "outputId": "d3fbfcb2-54e2-458b-f9b4-dda73160fe39"
      },
      "source": [
        "tipo_uti['QUANTIDADE'].sum()"
      ],
      "execution_count": 259,
      "outputs": [
        {
          "output_type": "execute_result",
          "data": {
            "text/plain": [
              "5925"
            ]
          },
          "metadata": {
            "tags": []
          },
          "execution_count": 259
        }
      ]
    },
    {
      "cell_type": "markdown",
      "metadata": {
        "id": "ojRJC16I5Myv"
      },
      "source": [
        "*Foram comprados 5925 respiradores do tipo UTI*"
      ]
    },
    {
      "cell_type": "code",
      "metadata": {
        "colab": {
          "base_uri": "https://localhost:8080/"
        },
        "id": "cZBOaPxIQWHr",
        "outputId": "7a527df7-1c96-4afe-f1a1-f9b630b0d222"
      },
      "source": [
        "tipo_transporte['QUANTIDADE'].sum()"
      ],
      "execution_count": 260,
      "outputs": [
        {
          "output_type": "execute_result",
          "data": {
            "text/plain": [
              "5693"
            ]
          },
          "metadata": {
            "tags": []
          },
          "execution_count": 260
        }
      ]
    },
    {
      "cell_type": "markdown",
      "metadata": {
        "id": "bcSQ8xq35XtX"
      },
      "source": [
        "*Foram comprados 5693 respiradores do tipo Transporte*"
      ]
    },
    {
      "cell_type": "code",
      "metadata": {
        "colab": {
          "base_uri": "https://localhost:8080/"
        },
        "id": "dZetbYYRQmb_",
        "outputId": "702e0a99-ebb2-4f76-ceb9-996434d37aed"
      },
      "source": [
        "df['QUANTIDADE'].sum()"
      ],
      "execution_count": 261,
      "outputs": [
        {
          "output_type": "execute_result",
          "data": {
            "text/plain": [
              "11618"
            ]
          },
          "metadata": {
            "tags": []
          },
          "execution_count": 261
        }
      ]
    },
    {
      "cell_type": "markdown",
      "metadata": {
        "id": "ZZoIpTus5kMB"
      },
      "source": [
        "*Foram comprados no total 11618 respiradores.*"
      ]
    },
    {
      "cell_type": "markdown",
      "metadata": {
        "id": "14GjvxP05-YX"
      },
      "source": [
        "# Valor gasto para o compra de respiradores para cada estado"
      ]
    },
    {
      "cell_type": "code",
      "metadata": {
        "colab": {
          "base_uri": "https://localhost:8080/"
        },
        "id": "WoL8DUvHqeez",
        "outputId": "5c42b5e2-d901-40cb-b369-b8c50acdd8fa"
      },
      "source": [
        "df.groupby('DESTINO')['VALOR'].sum().sort_values(ascending = False)\n"
      ],
      "execution_count": 262,
      "outputs": [
        {
          "output_type": "execute_result",
          "data": {
            "text/plain": [
              "DESTINO\n",
              "RIO DE JANEIRO         62783213.56\n",
              "SÃO PAULO              59024158.79\n",
              "RIO GRANDE DO SUL      49425394.32\n",
              "MINAS GERAIS           48680975.66\n",
              "BAHIA                  41010489.70\n",
              "PARANA                 37838078.95\n",
              "GOIAS                  36047447.61\n",
              "PARA                   24559450.00\n",
              "PARAIBA                19122570.00\n",
              "CEARA                  18705567.46\n",
              "MATO GROSSO DO SUL     18646612.38\n",
              "RIO GRANDE DO NORTE    16840710.00\n",
              "MARANHÃO               16321010.00\n",
              "DISTRITO FEDERAL       15248099.40\n",
              "AMAZONAS               15112784.90\n",
              "RONDONIA               15019670.00\n",
              "PERNAMBUCO             13575869.40\n",
              "ESPIRITO SANTO         13330450.00\n",
              "MATO GROSSO            12787707.91\n",
              "ALAGOAS                11593870.00\n",
              "TOCANTINS              10238850.00\n",
              "SERGIPE                 9891490.00\n",
              "PIAUI                   9753460.00\n",
              "ACRE                    9029000.00\n",
              "RORAIMA                 8584130.00\n",
              "AMAPA                   8125960.00\n",
              "SANTA CATARINA          7705395.97\n",
              "Name: VALOR, dtype: float64"
            ]
          },
          "metadata": {
            "tags": []
          },
          "execution_count": 262
        }
      ]
    },
    {
      "cell_type": "code",
      "metadata": {
        "colab": {
          "base_uri": "https://localhost:8080/",
          "height": 0
        },
        "id": "cestHa23nrwh",
        "outputId": "c7b1d2e4-3666-4d5e-a7cf-0b31b828fbf1"
      },
      "source": [
        "ax = df.groupby('DESTINO')['VALOR'].sum().sort_values(ascending = True).plot.barh(color= 'r',figsize = (20,8))\n",
        "for p in ax.patches:\n",
        "    b=p.get_bbox()\n",
        "    ax.annotate(\"{:.0f}\".format(b.x1 + b.x0), (p.get_x() + p.get_width() + 1, p.get_y() - 0.05))\n",
        "plt.title('Valor total da compra de respiradores para cada estado(R$)')\n",
        "plt.show()\n",
        "\n",
        "\n"
      ],
      "execution_count": 263,
      "outputs": [
        {
          "output_type": "display_data",
          "data": {
            "image/png": "[encoded data removed]",
            "text/plain": [
              "<Figure size 1440x576 with 1 Axes>"
            ]
          },
          "metadata": {
            "tags": [],
            "needs_background": "light"
          }
        }
      ]
    },
    {
      "cell_type": "markdown",
      "metadata": {
        "id": "cvsw-Cjy8fYu"
      },
      "source": [
        "# Valor total\n"
      ]
    },
    {
      "cell_type": "code",
      "metadata": {
        "colab": {
          "base_uri": "https://localhost:8080/"
        },
        "id": "DaZpNqc-8ZwN",
        "outputId": "f481b9e1-7287-48b3-e574-cd67644dce72"
      },
      "source": [
        "df['VALOR'].sum()"
      ],
      "execution_count": 264,
      "outputs": [
        {
          "output_type": "execute_result",
          "data": {
            "text/plain": [
              "609002416.01"
            ]
          },
          "metadata": {
            "tags": []
          },
          "execution_count": 264
        }
      ]
    },
    {
      "cell_type": "markdown",
      "metadata": {
        "id": "UI_CsGdd9VOt"
      },
      "source": [
        "*A compra dos respiradores totalizou 609 002 416,01 reais. Lembrando que nesse total não temos a compra dos respiradores enviados para o Líbano *"
      ]
    },
    {
      "cell_type": "markdown",
      "metadata": {
        "id": "XY62g0k3_Tv3"
      },
      "source": [
        "# Quantidade de respirador (UTI,TRANSPORTE) comprado para cada estado"
      ]
    },
    {
      "cell_type": "code",
      "metadata": {
        "id": "v21BtVU2zZAp"
      },
      "source": [
        "x = tipo_uti.groupby('DESTINO')['QUANTIDADE'].sum()\n",
        "y = tipo_transporte.groupby('DESTINO')['QUANTIDADE'].sum()\n",
        "\n",
        "\n",
        "x = x.to_frame().reset_index()\n",
        "y = y.to_frame().reset_index()\n",
        "x = x.rename(columns={'QUANTIDADE':'QUANT_UTI'})\n",
        "y = y.rename(columns={'QUANTIDADE':'QUANT_TRANSP'})\n"
      ],
      "execution_count": 265,
      "outputs": []
    },
    {
      "cell_type": "code",
      "metadata": {
        "id": "cotbKF1F2Arq",
        "colab": {
          "base_uri": "https://localhost:8080/",
          "height": 0
        },
        "outputId": "2560c011-a83c-4a56-adf4-708966f211e8"
      },
      "source": [
        "\n",
        "\n",
        "\n",
        "\n",
        "graf = pd.merge(x,y)\n",
        "graf = graf.sort_values('QUANT_UTI',ascending = True)\n",
        "ax = graf.plot.barh(figsize = (18,20),color = ('y','m'))\n",
        "for p in ax.patches:\n",
        "    b=p.get_bbox()\n",
        "    ax.get_width = 1.5\n",
        "    ax.annotate(\"{:.0f}\".format(b.x1 + b.x0), (p.get_x() + p.get_width() + 1, p.get_y() - 0.05))   \n",
        "plt.title('Quantidade de respiradores de cada tipo distribuido para cada estado')\n",
        "plt.yticks(np.arange(27),graf['DESTINO'][:].values)\n",
        "plt.show()\n"
      ],
      "execution_count": 266,
      "outputs": [
        {
          "output_type": "display_data",
          "data": {
            "image/png": "[encoded data removed]",
            "text/plain": [
              "<Figure size 1296x1440 with 1 Axes>"
            ]
          },
          "metadata": {
            "tags": [],
            "needs_background": "light"
          }
        }
      ]
    },
    {
      "cell_type": "code",
      "metadata": {
        "colab": {
          "base_uri": "https://localhost:8080/",
          "height": 0
        },
        "id": "i8i5HNyEfStX",
        "outputId": "ed9a09c6-68f2-4673-a412-823e149d6353"
      },
      "source": [
        "graf"
      ],
      "execution_count": 267,
      "outputs": [
        {
          "output_type": "execute_result",
          "data": {
            "text/html": [
              "<div>\n",
              "<style scoped>\n",
              "    .dataframe tbody tr th:only-of-type {\n",
              "        vertical-align: middle;\n",
              "    }\n",
              "\n",
              "    .dataframe tbody tr th {\n",
              "        vertical-align: top;\n",
              "    }\n",
              "\n",
              "    .dataframe thead th {\n",
              "        text-align: right;\n",
              "    }\n",
              "</style>\n",
              "<table border=\"1\" class=\"dataframe\">\n",
              "  <thead>\n",
              "    <tr style=\"text-align: right;\">\n",
              "      <th></th>\n",
              "      <th>DESTINO</th>\n",
              "      <th>QUANT_UTI</th>\n",
              "      <th>QUANT_TRANSP</th>\n",
              "    </tr>\n",
              "  </thead>\n",
              "  <tbody>\n",
              "    <tr>\n",
              "      <th>22</th>\n",
              "      <td>RORAIMA</td>\n",
              "      <td>65</td>\n",
              "      <td>97</td>\n",
              "    </tr>\n",
              "    <tr>\n",
              "      <th>0</th>\n",
              "      <td>ACRE</td>\n",
              "      <td>70</td>\n",
              "      <td>100</td>\n",
              "    </tr>\n",
              "    <tr>\n",
              "      <th>23</th>\n",
              "      <td>SANTA CATARINA</td>\n",
              "      <td>75</td>\n",
              "      <td>69</td>\n",
              "    </tr>\n",
              "    <tr>\n",
              "      <th>17</th>\n",
              "      <td>PIAUI</td>\n",
              "      <td>88</td>\n",
              "      <td>119</td>\n",
              "    </tr>\n",
              "    <tr>\n",
              "      <th>24</th>\n",
              "      <td>SERGIPE</td>\n",
              "      <td>97</td>\n",
              "      <td>89</td>\n",
              "    </tr>\n",
              "    <tr>\n",
              "      <th>1</th>\n",
              "      <td>ALAGOAS</td>\n",
              "      <td>99</td>\n",
              "      <td>137</td>\n",
              "    </tr>\n",
              "    <tr>\n",
              "      <th>2</th>\n",
              "      <td>AMAPA</td>\n",
              "      <td>99</td>\n",
              "      <td>26</td>\n",
              "    </tr>\n",
              "    <tr>\n",
              "      <th>26</th>\n",
              "      <td>TOCANTINS</td>\n",
              "      <td>100</td>\n",
              "      <td>120</td>\n",
              "    </tr>\n",
              "    <tr>\n",
              "      <th>16</th>\n",
              "      <td>PERNAMBUCO</td>\n",
              "      <td>111</td>\n",
              "      <td>140</td>\n",
              "    </tr>\n",
              "    <tr>\n",
              "      <th>7</th>\n",
              "      <td>ESPIRITO SANTO</td>\n",
              "      <td>121</td>\n",
              "      <td>155</td>\n",
              "    </tr>\n",
              "    <tr>\n",
              "      <th>10</th>\n",
              "      <td>MATO GROSSO</td>\n",
              "      <td>126</td>\n",
              "      <td>146</td>\n",
              "    </tr>\n",
              "    <tr>\n",
              "      <th>9</th>\n",
              "      <td>MARANHÃO</td>\n",
              "      <td>134</td>\n",
              "      <td>175</td>\n",
              "    </tr>\n",
              "    <tr>\n",
              "      <th>3</th>\n",
              "      <td>AMAZONAS</td>\n",
              "      <td>140</td>\n",
              "      <td>132</td>\n",
              "    </tr>\n",
              "    <tr>\n",
              "      <th>21</th>\n",
              "      <td>RONDONIA</td>\n",
              "      <td>147</td>\n",
              "      <td>136</td>\n",
              "    </tr>\n",
              "    <tr>\n",
              "      <th>6</th>\n",
              "      <td>DISTRITO FEDERAL</td>\n",
              "      <td>151</td>\n",
              "      <td>122</td>\n",
              "    </tr>\n",
              "    <tr>\n",
              "      <th>5</th>\n",
              "      <td>CEARA</td>\n",
              "      <td>151</td>\n",
              "      <td>203</td>\n",
              "    </tr>\n",
              "    <tr>\n",
              "      <th>11</th>\n",
              "      <td>MATO GROSSO DO SUL</td>\n",
              "      <td>175</td>\n",
              "      <td>165</td>\n",
              "    </tr>\n",
              "    <tr>\n",
              "      <th>19</th>\n",
              "      <td>RIO GRANDE DO NORTE</td>\n",
              "      <td>186</td>\n",
              "      <td>144</td>\n",
              "    </tr>\n",
              "    <tr>\n",
              "      <th>14</th>\n",
              "      <td>PARAIBA</td>\n",
              "      <td>203</td>\n",
              "      <td>159</td>\n",
              "    </tr>\n",
              "    <tr>\n",
              "      <th>13</th>\n",
              "      <td>PARA</td>\n",
              "      <td>243</td>\n",
              "      <td>209</td>\n",
              "    </tr>\n",
              "    <tr>\n",
              "      <th>15</th>\n",
              "      <td>PARANA</td>\n",
              "      <td>389</td>\n",
              "      <td>334</td>\n",
              "    </tr>\n",
              "    <tr>\n",
              "      <th>8</th>\n",
              "      <td>GOIAS</td>\n",
              "      <td>406</td>\n",
              "      <td>289</td>\n",
              "    </tr>\n",
              "    <tr>\n",
              "      <th>4</th>\n",
              "      <td>BAHIA</td>\n",
              "      <td>409</td>\n",
              "      <td>396</td>\n",
              "    </tr>\n",
              "    <tr>\n",
              "      <th>12</th>\n",
              "      <td>MINAS GERAIS</td>\n",
              "      <td>437</td>\n",
              "      <td>481</td>\n",
              "    </tr>\n",
              "    <tr>\n",
              "      <th>25</th>\n",
              "      <td>SÃO PAULO</td>\n",
              "      <td>531</td>\n",
              "      <td>573</td>\n",
              "    </tr>\n",
              "    <tr>\n",
              "      <th>18</th>\n",
              "      <td>RIO DE JANEIRO</td>\n",
              "      <td>553</td>\n",
              "      <td>690</td>\n",
              "    </tr>\n",
              "    <tr>\n",
              "      <th>20</th>\n",
              "      <td>RIO GRANDE DO SUL</td>\n",
              "      <td>619</td>\n",
              "      <td>287</td>\n",
              "    </tr>\n",
              "  </tbody>\n",
              "</table>\n",
              "</div>"
            ],
            "text/plain": [
              "                DESTINO  QUANT_UTI  QUANT_TRANSP\n",
              "22              RORAIMA         65            97\n",
              "0                  ACRE         70           100\n",
              "23       SANTA CATARINA         75            69\n",
              "17                PIAUI         88           119\n",
              "24              SERGIPE         97            89\n",
              "1               ALAGOAS         99           137\n",
              "2                 AMAPA         99            26\n",
              "26            TOCANTINS        100           120\n",
              "16           PERNAMBUCO        111           140\n",
              "7       ESPIRITO SANTO         121           155\n",
              "10         MATO GROSSO         126           146\n",
              "9              MARANHÃO        134           175\n",
              "3              AMAZONAS        140           132\n",
              "21             RONDONIA        147           136\n",
              "6      DISTRITO FEDERAL        151           122\n",
              "5                 CEARA        151           203\n",
              "11   MATO GROSSO DO SUL        175           165\n",
              "19  RIO GRANDE DO NORTE        186           144\n",
              "14              PARAIBA        203           159\n",
              "13                 PARA        243           209\n",
              "15               PARANA        389           334\n",
              "8                 GOIAS        406           289\n",
              "4                 BAHIA        409           396\n",
              "12         MINAS GERAIS        437           481\n",
              "25            SÃO PAULO        531           573\n",
              "18       RIO DE JANEIRO        553           690\n",
              "20   RIO GRANDE DO SUL         619           287"
            ]
          },
          "metadata": {
            "tags": []
          },
          "execution_count": 267
        }
      ]
    },
    {
      "cell_type": "markdown",
      "metadata": {
        "id": "kkgofg33BRCf"
      },
      "source": [
        "# Quantidade total de respiradores enviados para cada estado"
      ]
    },
    {
      "cell_type": "code",
      "metadata": {
        "colab": {
          "base_uri": "https://localhost:8080/",
          "height": 969
        },
        "id": "SNFRZ6RmALDb",
        "outputId": "0d656adb-4961-4ef3-9828-6d193dab7f0a"
      },
      "source": [
        "ax = df.groupby('DESTINO')['QUANTIDADE'].sum().sort_values().plot.barh(figsize = (15,8))\n",
        "for p in ax.patches:\n",
        "    b=p.get_bbox()\n",
        "    ax.annotate(\"{:.0f}\".format(b.x1 + b.x0), (p.get_x() + p.get_width() + 1, p.get_y() - 0.05))\n",
        "plt.title('Quantidade total de respiradores enviados para cada estado')\n",
        "\n",
        "plt.show()\n",
        "df.groupby('DESTINO')['QUANTIDADE'].sum()"
      ],
      "execution_count": 268,
      "outputs": [
        {
          "output_type": "display_data",
          "data": {
            "image/png": "[encoded data removed]",
            "text/plain": [
              "<Figure size 1080x576 with 1 Axes>"
            ]
          },
          "metadata": {
            "tags": [],
            "needs_background": "light"
          }
        },
        {
          "output_type": "execute_result",
          "data": {
            "text/plain": [
              "DESTINO\n",
              "ACRE                    170\n",
              "ALAGOAS                 236\n",
              "AMAPA                   125\n",
              "AMAZONAS                272\n",
              "BAHIA                   805\n",
              "CEARA                   354\n",
              "DISTRITO FEDERAL        273\n",
              "ESPIRITO SANTO          276\n",
              "GOIAS                   695\n",
              "MARANHÃO                309\n",
              "MATO GROSSO             272\n",
              "MATO GROSSO DO SUL      340\n",
              "MINAS GERAIS            918\n",
              "PARA                    452\n",
              "PARAIBA                 362\n",
              "PARANA                  723\n",
              "PERNAMBUCO              251\n",
              "PIAUI                   207\n",
              "RIO DE JANEIRO         1243\n",
              "RIO GRANDE DO NORTE     330\n",
              "RIO GRANDE DO SUL       906\n",
              "RONDONIA                283\n",
              "RORAIMA                 162\n",
              "SANTA CATARINA          144\n",
              "SERGIPE                 186\n",
              "SÃO PAULO              1104\n",
              "TOCANTINS               220\n",
              "Name: QUANTIDADE, dtype: int64"
            ]
          },
          "metadata": {
            "tags": []
          },
          "execution_count": 268
        }
      ]
    },
    {
      "cell_type": "markdown",
      "metadata": {
        "id": "tCNYivuRHymm"
      },
      "source": [
        "# Na coluna ESTADO/MUNICIPIO, existe um detalhe nos registros...\n"
      ]
    },
    {
      "cell_type": "code",
      "metadata": {
        "colab": {
          "base_uri": "https://localhost:8080/"
        },
        "id": "tPn96RdYIk3L",
        "outputId": "1c88dd12-69a9-4343-a58b-60b84488550c"
      },
      "source": [
        "df['ESTADO/MUNICIPIO'].value_counts()"
      ],
      "execution_count": 269,
      "outputs": [
        {
          "output_type": "execute_result",
          "data": {
            "text/plain": [
              "MUNICIPIO    1387\n",
              "ESTADO        281\n",
              "ESTADO         24\n",
              "Name: ESTADO/MUNICIPIO, dtype: int64"
            ]
          },
          "metadata": {
            "tags": []
          },
          "execution_count": 269
        }
      ]
    },
    {
      "cell_type": "markdown",
      "metadata": {
        "id": "YqAto8RxJCU0"
      },
      "source": [
        "Na contagem de registros, o ESTADO aparece duas vezes, pois em um registro está escrito 'ESTADO' e no outro está escrito 'ESTADO '. Esse espaço no final fez com que os dois registro fossem contados como diferentes. Resolvendo o problema..."
      ]
    },
    {
      "cell_type": "code",
      "metadata": {
        "id": "-oUsml-gJyfZ"
      },
      "source": [
        "for index, row in df.iterrows():\n",
        "    if row['ESTADO/MUNICIPIO'] == 'ESTADO ':\n",
        "        df.loc[index,'ESTADO/MUNICIPIO'] = 'ESTADO'"
      ],
      "execution_count": 270,
      "outputs": []
    },
    {
      "cell_type": "code",
      "metadata": {
        "colab": {
          "base_uri": "https://localhost:8080/"
        },
        "id": "JMS_T71NKAHJ",
        "outputId": "8bc69453-00b5-47d5-85be-e2571a9ffc0a"
      },
      "source": [
        "df['ESTADO/MUNICIPIO'].value_counts()"
      ],
      "execution_count": 271,
      "outputs": [
        {
          "output_type": "execute_result",
          "data": {
            "text/plain": [
              "MUNICIPIO    1387\n",
              "ESTADO        305\n",
              "Name: ESTADO/MUNICIPIO, dtype: int64"
            ]
          },
          "metadata": {
            "tags": []
          },
          "execution_count": 271
        }
      ]
    },
    {
      "cell_type": "markdown",
      "metadata": {
        "id": "bT7BuTfwKH6p"
      },
      "source": [
        "Problema resolvido."
      ]
    },
    {
      "cell_type": "markdown",
      "metadata": {
        "id": "QfT8-Zt6LrkE"
      },
      "source": [
        "# Respiradores distribuidos para estados e municípios(Quantidade e valor)"
      ]
    },
    {
      "cell_type": "code",
      "metadata": {
        "colab": {
          "base_uri": "https://localhost:8080/",
          "height": 556
        },
        "id": "ofXBhUzzLmWw",
        "outputId": "f43d0b49-b9bb-4f5c-c176-196576b37022"
      },
      "source": [
        "df.groupby('ESTADO/MUNICIPIO')['QUANTIDADE'].sum()\n",
        "quant = df.groupby('ESTADO/MUNICIPIO')['QUANTIDADE'].sum().plot.bar(color = 'm',figsize = (10,8))\n",
        "for p in quant.patches:\n",
        "    b=p.get_bbox()\n",
        "    quant.annotate(\"{:.0f}\".format(b.y1 + b.y0), ((b.x0 + b.x1)/2 - 0.03 , b.y1 + 15 ))\n",
        "plt.title('Quantidade de respiradores distribuidos para estados e municípios')\n",
        "plt.show()\n",
        "\n"
      ],
      "execution_count": 272,
      "outputs": [
        {
          "output_type": "display_data",
          "data": {
            "image/png": "[encoded data removed]",
            "text/plain": [
              "<Figure size 720x576 with 1 Axes>"
            ]
          },
          "metadata": {
            "tags": [],
            "needs_background": "light"
          }
        }
      ]
    },
    {
      "cell_type": "code",
      "metadata": {
        "colab": {
          "base_uri": "https://localhost:8080/",
          "height": 556
        },
        "id": "qq7qXyg_Pf3K",
        "outputId": "b4d626e9-c94b-42b6-d8a7-e55aa53eeb54"
      },
      "source": [
        "valor = df.groupby('ESTADO/MUNICIPIO')['VALOR'].sum().plot.bar(color = 'g',figsize = (10,8))\n",
        "for p in valor.patches:\n",
        "    b=p.get_bbox()\n",
        "    valor.annotate(\"{:.0f}\".format(b.y1 + b.y0), ((b.x0 + b.x1)/2 - 0.03 , b.y1 + 15 ))\n",
        "plt.title('Valor gasto com os  respiradores distribuidos para estados e municípios')\n",
        "plt.show()"
      ],
      "execution_count": 273,
      "outputs": [
        {
          "output_type": "display_data",
          "data": {
            "image/png": "[encoded data removed]",
            "text/plain": [
              "<Figure size 720x576 with 1 Axes>"
            ]
          },
          "metadata": {
            "tags": [],
            "needs_background": "light"
          }
        }
      ]
    },
    {
      "cell_type": "markdown",
      "metadata": {
        "id": "FcVpyKwT8p3-"
      },
      "source": [
        "# Conclusão"
      ]
    },
    {
      "cell_type": "markdown",
      "metadata": {
        "id": "hPVe8woaf4yQ"
      },
      "source": [
        "<h2>Conclusão</h2>\n",
        "\n",
        "<p>Através da análise deste dataset conseguimos descrever e sintetizar  os registros de como foram as  compras de respiradores no Brasil em 2020, como:     nome de fornecedores quantidades de respiradores comprados, tipos de respiradores , entre outros detalhes que foram expostos.</p>\n",
        "<p> Verificamos também a compra de respiradores que foram uma das  doações feitas para o Líbano, como  ajuda às vítimas da explosão que ocorreu na capital, Beirute, em Agosto deste ano. </p>\n"
      ]
    }
  ]
}
